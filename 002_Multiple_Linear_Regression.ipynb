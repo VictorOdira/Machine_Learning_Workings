{
 "cells": [
  {
   "cell_type": "code",
   "execution_count": 8,
   "id": "6e0814b0",
   "metadata": {},
   "outputs": [],
   "source": [
    "import pandas as pd\n",
    "import numpy as np\n",
    "import matplotlib.pyplot as plt\n",
    "\n",
    "import warnings\n",
    "warnings.filterwarnings(\"ignore\")"
   ]
  },
  {
   "cell_type": "code",
   "execution_count": 2,
   "id": "22a48ebe",
   "metadata": {},
   "outputs": [
    {
     "data": {
      "text/html": [
       "<div>\n",
       "<style scoped>\n",
       "    .dataframe tbody tr th:only-of-type {\n",
       "        vertical-align: middle;\n",
       "    }\n",
       "\n",
       "    .dataframe tbody tr th {\n",
       "        vertical-align: top;\n",
       "    }\n",
       "\n",
       "    .dataframe thead th {\n",
       "        text-align: right;\n",
       "    }\n",
       "</style>\n",
       "<table border=\"1\" class=\"dataframe\">\n",
       "  <thead>\n",
       "    <tr style=\"text-align: right;\">\n",
       "      <th></th>\n",
       "      <th>Rank</th>\n",
       "      <th>Release_Date</th>\n",
       "      <th>Movie_Title</th>\n",
       "      <th>USD_Production_Budget</th>\n",
       "      <th>USD_Worldwide_Gross</th>\n",
       "      <th>USD_Domestic_Gross</th>\n",
       "    </tr>\n",
       "  </thead>\n",
       "  <tbody>\n",
       "    <tr>\n",
       "      <th>0</th>\n",
       "      <td>5293</td>\n",
       "      <td>8/2/1915</td>\n",
       "      <td>The Birth of a Nation</td>\n",
       "      <td>$110,000</td>\n",
       "      <td>$11,000,000</td>\n",
       "      <td>$10,000,000</td>\n",
       "    </tr>\n",
       "    <tr>\n",
       "      <th>1</th>\n",
       "      <td>5140</td>\n",
       "      <td>5/9/1916</td>\n",
       "      <td>Intolerance</td>\n",
       "      <td>$385,907</td>\n",
       "      <td>$0</td>\n",
       "      <td>$0</td>\n",
       "    </tr>\n",
       "    <tr>\n",
       "      <th>2</th>\n",
       "      <td>5230</td>\n",
       "      <td>12/24/1916</td>\n",
       "      <td>20,000 Leagues Under the Sea</td>\n",
       "      <td>$200,000</td>\n",
       "      <td>$8,000,000</td>\n",
       "      <td>$8,000,000</td>\n",
       "    </tr>\n",
       "    <tr>\n",
       "      <th>3</th>\n",
       "      <td>5299</td>\n",
       "      <td>9/17/1920</td>\n",
       "      <td>Over the Hill to the Poorhouse</td>\n",
       "      <td>$100,000</td>\n",
       "      <td>$3,000,000</td>\n",
       "      <td>$3,000,000</td>\n",
       "    </tr>\n",
       "    <tr>\n",
       "      <th>4</th>\n",
       "      <td>5222</td>\n",
       "      <td>1/1/1925</td>\n",
       "      <td>The Big Parade</td>\n",
       "      <td>$245,000</td>\n",
       "      <td>$22,000,000</td>\n",
       "      <td>$11,000,000</td>\n",
       "    </tr>\n",
       "    <tr>\n",
       "      <th>...</th>\n",
       "      <td>...</td>\n",
       "      <td>...</td>\n",
       "      <td>...</td>\n",
       "      <td>...</td>\n",
       "      <td>...</td>\n",
       "      <td>...</td>\n",
       "    </tr>\n",
       "    <tr>\n",
       "      <th>5386</th>\n",
       "      <td>2950</td>\n",
       "      <td>10/8/2018</td>\n",
       "      <td>Meg</td>\n",
       "      <td>$15,000,000</td>\n",
       "      <td>$0</td>\n",
       "      <td>$0</td>\n",
       "    </tr>\n",
       "    <tr>\n",
       "      <th>5387</th>\n",
       "      <td>126</td>\n",
       "      <td>12/18/2018</td>\n",
       "      <td>Aquaman</td>\n",
       "      <td>$160,000,000</td>\n",
       "      <td>$0</td>\n",
       "      <td>$0</td>\n",
       "    </tr>\n",
       "    <tr>\n",
       "      <th>5388</th>\n",
       "      <td>96</td>\n",
       "      <td>12/31/2020</td>\n",
       "      <td>Singularity</td>\n",
       "      <td>$175,000,000</td>\n",
       "      <td>$0</td>\n",
       "      <td>$0</td>\n",
       "    </tr>\n",
       "    <tr>\n",
       "      <th>5389</th>\n",
       "      <td>1119</td>\n",
       "      <td>12/31/2020</td>\n",
       "      <td>Hannibal the Conqueror</td>\n",
       "      <td>$50,000,000</td>\n",
       "      <td>$0</td>\n",
       "      <td>$0</td>\n",
       "    </tr>\n",
       "    <tr>\n",
       "      <th>5390</th>\n",
       "      <td>2517</td>\n",
       "      <td>12/31/2020</td>\n",
       "      <td>Story of Bonnie and Clyde, The</td>\n",
       "      <td>$20,000,000</td>\n",
       "      <td>$0</td>\n",
       "      <td>$0</td>\n",
       "    </tr>\n",
       "  </tbody>\n",
       "</table>\n",
       "<p>5391 rows × 6 columns</p>\n",
       "</div>"
      ],
      "text/plain": [
       "      Rank Release_Date                     Movie_Title USD_Production_Budget  \\\n",
       "0     5293     8/2/1915           The Birth of a Nation              $110,000   \n",
       "1     5140     5/9/1916                     Intolerance              $385,907   \n",
       "2     5230   12/24/1916    20,000 Leagues Under the Sea              $200,000   \n",
       "3     5299    9/17/1920  Over the Hill to the Poorhouse              $100,000   \n",
       "4     5222     1/1/1925                  The Big Parade              $245,000   \n",
       "...    ...          ...                             ...                   ...   \n",
       "5386  2950    10/8/2018                             Meg           $15,000,000   \n",
       "5387   126   12/18/2018                         Aquaman          $160,000,000   \n",
       "5388    96   12/31/2020                     Singularity          $175,000,000   \n",
       "5389  1119   12/31/2020          Hannibal the Conqueror           $50,000,000   \n",
       "5390  2517   12/31/2020  Story of Bonnie and Clyde, The           $20,000,000   \n",
       "\n",
       "     USD_Worldwide_Gross USD_Domestic_Gross  \n",
       "0            $11,000,000        $10,000,000  \n",
       "1                     $0                 $0  \n",
       "2             $8,000,000         $8,000,000  \n",
       "3             $3,000,000         $3,000,000  \n",
       "4            $22,000,000        $11,000,000  \n",
       "...                  ...                ...  \n",
       "5386                  $0                 $0  \n",
       "5387                  $0                 $0  \n",
       "5388                  $0                 $0  \n",
       "5389                  $0                 $0  \n",
       "5390                  $0                 $0  \n",
       "\n",
       "[5391 rows x 6 columns]"
      ]
     },
     "execution_count": 2,
     "metadata": {},
     "output_type": "execute_result"
    }
   ],
   "source": [
    "df = pd.read_csv(\"cost_revenue_dirty.csv\")\n",
    "df"
   ]
  },
  {
   "cell_type": "code",
   "execution_count": 3,
   "id": "cadfc1ba",
   "metadata": {},
   "outputs": [
    {
     "data": {
      "text/plain": [
       "Rank                     0\n",
       "Release_Date             0\n",
       "Movie_Title              0\n",
       "USD_Production_Budget    0\n",
       "USD_Worldwide_Gross      0\n",
       "USD_Domestic_Gross       0\n",
       "dtype: int64"
      ]
     },
     "execution_count": 3,
     "metadata": {},
     "output_type": "execute_result"
    }
   ],
   "source": [
    "df.isnull().sum()"
   ]
  },
  {
   "cell_type": "code",
   "execution_count": 4,
   "id": "d41758cf",
   "metadata": {},
   "outputs": [
    {
     "name": "stdout",
     "output_type": "stream",
     "text": [
      "False\n"
     ]
    }
   ],
   "source": [
    "print(df.isna().values.any())"
   ]
  },
  {
   "cell_type": "code",
   "execution_count": 6,
   "id": "e746b2ff",
   "metadata": {},
   "outputs": [
    {
     "name": "stdout",
     "output_type": "stream",
     "text": [
      "False\n",
      "0\n"
     ]
    }
   ],
   "source": [
    "print(df.duplicated().values.any())\n",
    "duplicated_rows = df[df.duplicated()]\n",
    "print(len(duplicated_rows))"
   ]
  },
  {
   "cell_type": "code",
   "execution_count": 9,
   "id": "efb5ca30",
   "metadata": {},
   "outputs": [
    {
     "data": {
      "text/html": [
       "<div>\n",
       "<style scoped>\n",
       "    .dataframe tbody tr th:only-of-type {\n",
       "        vertical-align: middle;\n",
       "    }\n",
       "\n",
       "    .dataframe tbody tr th {\n",
       "        vertical-align: top;\n",
       "    }\n",
       "\n",
       "    .dataframe thead th {\n",
       "        text-align: right;\n",
       "    }\n",
       "</style>\n",
       "<table border=\"1\" class=\"dataframe\">\n",
       "  <thead>\n",
       "    <tr style=\"text-align: right;\">\n",
       "      <th></th>\n",
       "      <th>Rank</th>\n",
       "      <th>Release_Date</th>\n",
       "      <th>Movie_Title</th>\n",
       "      <th>USD_Production_Budget</th>\n",
       "      <th>USD_Worldwide_Gross</th>\n",
       "      <th>USD_Domestic_Gross</th>\n",
       "    </tr>\n",
       "  </thead>\n",
       "  <tbody>\n",
       "    <tr>\n",
       "      <th>0</th>\n",
       "      <td>5293</td>\n",
       "      <td>8/2/1915</td>\n",
       "      <td>The Birth of a Nation</td>\n",
       "      <td>110000</td>\n",
       "      <td>11000000</td>\n",
       "      <td>10000000</td>\n",
       "    </tr>\n",
       "    <tr>\n",
       "      <th>1</th>\n",
       "      <td>5140</td>\n",
       "      <td>5/9/1916</td>\n",
       "      <td>Intolerance</td>\n",
       "      <td>385907</td>\n",
       "      <td>0</td>\n",
       "      <td>0</td>\n",
       "    </tr>\n",
       "    <tr>\n",
       "      <th>2</th>\n",
       "      <td>5230</td>\n",
       "      <td>12/24/1916</td>\n",
       "      <td>20,000 Leagues Under the Sea</td>\n",
       "      <td>200000</td>\n",
       "      <td>8000000</td>\n",
       "      <td>8000000</td>\n",
       "    </tr>\n",
       "    <tr>\n",
       "      <th>3</th>\n",
       "      <td>5299</td>\n",
       "      <td>9/17/1920</td>\n",
       "      <td>Over the Hill to the Poorhouse</td>\n",
       "      <td>100000</td>\n",
       "      <td>3000000</td>\n",
       "      <td>3000000</td>\n",
       "    </tr>\n",
       "    <tr>\n",
       "      <th>4</th>\n",
       "      <td>5222</td>\n",
       "      <td>1/1/1925</td>\n",
       "      <td>The Big Parade</td>\n",
       "      <td>245000</td>\n",
       "      <td>22000000</td>\n",
       "      <td>11000000</td>\n",
       "    </tr>\n",
       "    <tr>\n",
       "      <th>...</th>\n",
       "      <td>...</td>\n",
       "      <td>...</td>\n",
       "      <td>...</td>\n",
       "      <td>...</td>\n",
       "      <td>...</td>\n",
       "      <td>...</td>\n",
       "    </tr>\n",
       "    <tr>\n",
       "      <th>5386</th>\n",
       "      <td>2950</td>\n",
       "      <td>10/8/2018</td>\n",
       "      <td>Meg</td>\n",
       "      <td>15000000</td>\n",
       "      <td>0</td>\n",
       "      <td>0</td>\n",
       "    </tr>\n",
       "    <tr>\n",
       "      <th>5387</th>\n",
       "      <td>126</td>\n",
       "      <td>12/18/2018</td>\n",
       "      <td>Aquaman</td>\n",
       "      <td>160000000</td>\n",
       "      <td>0</td>\n",
       "      <td>0</td>\n",
       "    </tr>\n",
       "    <tr>\n",
       "      <th>5388</th>\n",
       "      <td>96</td>\n",
       "      <td>12/31/2020</td>\n",
       "      <td>Singularity</td>\n",
       "      <td>175000000</td>\n",
       "      <td>0</td>\n",
       "      <td>0</td>\n",
       "    </tr>\n",
       "    <tr>\n",
       "      <th>5389</th>\n",
       "      <td>1119</td>\n",
       "      <td>12/31/2020</td>\n",
       "      <td>Hannibal the Conqueror</td>\n",
       "      <td>50000000</td>\n",
       "      <td>0</td>\n",
       "      <td>0</td>\n",
       "    </tr>\n",
       "    <tr>\n",
       "      <th>5390</th>\n",
       "      <td>2517</td>\n",
       "      <td>12/31/2020</td>\n",
       "      <td>Story of Bonnie and Clyde, The</td>\n",
       "      <td>20000000</td>\n",
       "      <td>0</td>\n",
       "      <td>0</td>\n",
       "    </tr>\n",
       "  </tbody>\n",
       "</table>\n",
       "<p>5391 rows × 6 columns</p>\n",
       "</div>"
      ],
      "text/plain": [
       "      Rank Release_Date                     Movie_Title  \\\n",
       "0     5293     8/2/1915           The Birth of a Nation   \n",
       "1     5140     5/9/1916                     Intolerance   \n",
       "2     5230   12/24/1916    20,000 Leagues Under the Sea   \n",
       "3     5299    9/17/1920  Over the Hill to the Poorhouse   \n",
       "4     5222     1/1/1925                  The Big Parade   \n",
       "...    ...          ...                             ...   \n",
       "5386  2950    10/8/2018                             Meg   \n",
       "5387   126   12/18/2018                         Aquaman   \n",
       "5388    96   12/31/2020                     Singularity   \n",
       "5389  1119   12/31/2020          Hannibal the Conqueror   \n",
       "5390  2517   12/31/2020  Story of Bonnie and Clyde, The   \n",
       "\n",
       "      USD_Production_Budget  USD_Worldwide_Gross  USD_Domestic_Gross  \n",
       "0                    110000             11000000            10000000  \n",
       "1                    385907                    0                   0  \n",
       "2                    200000              8000000             8000000  \n",
       "3                    100000              3000000             3000000  \n",
       "4                    245000             22000000            11000000  \n",
       "...                     ...                  ...                 ...  \n",
       "5386               15000000                    0                   0  \n",
       "5387              160000000                    0                   0  \n",
       "5388              175000000                    0                   0  \n",
       "5389               50000000                    0                   0  \n",
       "5390               20000000                    0                   0  \n",
       "\n",
       "[5391 rows x 6 columns]"
      ]
     },
     "execution_count": 9,
     "metadata": {},
     "output_type": "execute_result"
    }
   ],
   "source": [
    "# remove both $ and , characters\n",
    "chars_to_remove = [\"$\" , \",\"]\n",
    "columns_to_clean = [\"USD_Production_Budget\", \"USD_Worldwide_Gross\", \"USD_Domestic_Gross\"]\n",
    "for column in columns_to_clean:\n",
    "    for char in chars_to_remove: \n",
    "        df[column] = df[column].astype(str).str.replace(char, \"\")\n",
    "    df[column] = pd.to_numeric(df[column])\n",
    "df"
   ]
  },
  {
   "cell_type": "code",
   "execution_count": 104,
   "id": "d10f8a3b",
   "metadata": {},
   "outputs": [
    {
     "data": {
      "text/html": [
       "<div>\n",
       "<style scoped>\n",
       "    .dataframe tbody tr th:only-of-type {\n",
       "        vertical-align: middle;\n",
       "    }\n",
       "\n",
       "    .dataframe tbody tr th {\n",
       "        vertical-align: top;\n",
       "    }\n",
       "\n",
       "    .dataframe thead th {\n",
       "        text-align: right;\n",
       "    }\n",
       "</style>\n",
       "<table border=\"1\" class=\"dataframe\">\n",
       "  <thead>\n",
       "    <tr style=\"text-align: right;\">\n",
       "      <th></th>\n",
       "      <th>USD_Worldwide_Gross</th>\n",
       "      <th>USD_Domestic_Gross</th>\n",
       "    </tr>\n",
       "  </thead>\n",
       "  <tbody>\n",
       "    <tr>\n",
       "      <th>0</th>\n",
       "      <td>11000000</td>\n",
       "      <td>10000000</td>\n",
       "    </tr>\n",
       "    <tr>\n",
       "      <th>1</th>\n",
       "      <td>0</td>\n",
       "      <td>0</td>\n",
       "    </tr>\n",
       "    <tr>\n",
       "      <th>2</th>\n",
       "      <td>8000000</td>\n",
       "      <td>8000000</td>\n",
       "    </tr>\n",
       "    <tr>\n",
       "      <th>3</th>\n",
       "      <td>3000000</td>\n",
       "      <td>3000000</td>\n",
       "    </tr>\n",
       "    <tr>\n",
       "      <th>4</th>\n",
       "      <td>22000000</td>\n",
       "      <td>11000000</td>\n",
       "    </tr>\n",
       "    <tr>\n",
       "      <th>...</th>\n",
       "      <td>...</td>\n",
       "      <td>...</td>\n",
       "    </tr>\n",
       "    <tr>\n",
       "      <th>5386</th>\n",
       "      <td>0</td>\n",
       "      <td>0</td>\n",
       "    </tr>\n",
       "    <tr>\n",
       "      <th>5387</th>\n",
       "      <td>0</td>\n",
       "      <td>0</td>\n",
       "    </tr>\n",
       "    <tr>\n",
       "      <th>5388</th>\n",
       "      <td>0</td>\n",
       "      <td>0</td>\n",
       "    </tr>\n",
       "    <tr>\n",
       "      <th>5389</th>\n",
       "      <td>0</td>\n",
       "      <td>0</td>\n",
       "    </tr>\n",
       "    <tr>\n",
       "      <th>5390</th>\n",
       "      <td>0</td>\n",
       "      <td>0</td>\n",
       "    </tr>\n",
       "  </tbody>\n",
       "</table>\n",
       "<p>5391 rows × 2 columns</p>\n",
       "</div>"
      ],
      "text/plain": [
       "      USD_Worldwide_Gross  USD_Domestic_Gross\n",
       "0                11000000            10000000\n",
       "1                       0                   0\n",
       "2                 8000000             8000000\n",
       "3                 3000000             3000000\n",
       "4                22000000            11000000\n",
       "...                   ...                 ...\n",
       "5386                    0                   0\n",
       "5387                    0                   0\n",
       "5388                    0                   0\n",
       "5389                    0                   0\n",
       "5390                    0                   0\n",
       "\n",
       "[5391 rows x 2 columns]"
      ]
     },
     "execution_count": 104,
     "metadata": {},
     "output_type": "execute_result"
    }
   ],
   "source": [
    "x = df[[\"USD_Worldwide_Gross\", \"USD_Domestic_Gross\"]]\n",
    "x"
   ]
  },
  {
   "cell_type": "code",
   "execution_count": 105,
   "id": "ea89d4ef",
   "metadata": {},
   "outputs": [
    {
     "data": {
      "text/plain": [
       "0          110000\n",
       "1          385907\n",
       "2          200000\n",
       "3          100000\n",
       "4          245000\n",
       "          ...    \n",
       "5386     15000000\n",
       "5387    160000000\n",
       "5388    175000000\n",
       "5389     50000000\n",
       "5390     20000000\n",
       "Name: USD_Production_Budget, Length: 5391, dtype: int64"
      ]
     },
     "execution_count": 105,
     "metadata": {},
     "output_type": "execute_result"
    }
   ],
   "source": [
    "y = df[\"USD_Production_Budget\"]\n",
    "y"
   ]
  },
  {
   "cell_type": "code",
   "execution_count": 106,
   "id": "52d2be74",
   "metadata": {},
   "outputs": [],
   "source": [
    "from sklearn.model_selection import train_test_split\n",
    "x_train, x_test, y_train, y_test = train_test_split(x, y, test_size = 0.3, random_state=0)"
   ]
  },
  {
   "cell_type": "code",
   "execution_count": 152,
   "id": "81d68667",
   "metadata": {},
   "outputs": [],
   "source": [
    "x_train = np.array(x_train).reshape(-1,2)\n",
    "y_train = np.array(y_train).reshape(-1, 1)\n",
    "x_test = np.array(x_test).reshape(-1, 2)\n",
    "y_test = np.array(y_test).reshape(-1, 1)"
   ]
  },
  {
   "cell_type": "code",
   "execution_count": 142,
   "id": "852da2cb",
   "metadata": {},
   "outputs": [
    {
     "name": "stdout",
     "output_type": "stream",
     "text": [
      "(7546, 1)\n",
      "(3773, 1)\n",
      "(3236, 1)\n",
      "(3236, 1)\n"
     ]
    }
   ],
   "source": [
    "print(x_train.shape)\n",
    "print(y_train.shape)\n",
    "print(x_test.shape)\n",
    "print(x_test.shape)"
   ]
  },
  {
   "cell_type": "code",
   "execution_count": 143,
   "id": "a08c4fe5",
   "metadata": {},
   "outputs": [
    {
     "name": "stdout",
     "output_type": "stream",
     "text": [
      "2\n",
      "2\n",
      "2\n",
      "2\n"
     ]
    }
   ],
   "source": [
    "print(x_train.ndim)\n",
    "print(y_train.ndim)\n",
    "print(x_test.ndim)\n",
    "print(x_test.ndim)"
   ]
  },
  {
   "cell_type": "code",
   "execution_count": 144,
   "id": "e8b4377b",
   "metadata": {},
   "outputs": [],
   "source": [
    "from sklearn.linear_model import LinearRegression\n",
    "lr = LinearRegression()"
   ]
  },
  {
   "cell_type": "code",
   "execution_count": 147,
   "id": "08f02a98",
   "metadata": {},
   "outputs": [
    {
     "data": {
      "text/plain": [
       "LinearRegression()"
      ]
     },
     "execution_count": 147,
     "metadata": {},
     "output_type": "execute_result"
    }
   ],
   "source": [
    "lr.fit(x_train, y_train)"
   ]
  },
  {
   "cell_type": "code",
   "execution_count": 148,
   "id": "a6fbfc50",
   "metadata": {},
   "outputs": [
    {
     "data": {
      "text/plain": [
       "array([15416945.66194945])"
      ]
     },
     "execution_count": 148,
     "metadata": {},
     "output_type": "execute_result"
    }
   ],
   "source": [
    "lr.intercept_"
   ]
  },
  {
   "cell_type": "code",
   "execution_count": 149,
   "id": "50196c41",
   "metadata": {},
   "outputs": [
    {
     "data": {
      "text/plain": [
       "array([[ 0.21567753, -0.06982912]])"
      ]
     },
     "execution_count": 149,
     "metadata": {},
     "output_type": "execute_result"
    }
   ],
   "source": [
    "lr.coef_"
   ]
  },
  {
   "cell_type": "code",
   "execution_count": 150,
   "id": "62aed90e",
   "metadata": {},
   "outputs": [
    {
     "data": {
      "text/plain": [
       "array([[28984965.05907663],\n",
       "       [35519414.78816804],\n",
       "       [32252038.16691709],\n",
       "       ...,\n",
       "       [16872440.7069031 ],\n",
       "       [15902039.36897076],\n",
       "       [18992540.5822652 ]])"
      ]
     },
     "execution_count": 150,
     "metadata": {},
     "output_type": "execute_result"
    }
   ],
   "source": [
    "y_pred_train = lr.predict(x_train)\n",
    "y_pred_train"
   ]
  },
  {
   "cell_type": "code",
   "execution_count": 159,
   "id": "3874d56c",
   "metadata": {},
   "outputs": [
    {
     "data": {
      "image/png": "[encoded data removed]",
      "text/plain": [
       "<Figure size 1500x1500 with 1 Axes>"
      ]
     },
     "metadata": {},
     "output_type": "display_data"
    }
   ],
   "source": [
    "plt.figure(figsize=(15,15))\n",
    "plt.scatter(y_train, y_pred_train)\n",
    "plt.title(\"Impact of Gross on Production Budget\", fontsize=14)\n",
    "plt.xlabel(\"Gross ($)\", fontsize=12)\n",
    "plt.ylabel(\"Production Budget ($)\", fontsize=12)\n",
    "plt.show()"
   ]
  },
  {
   "cell_type": "code",
   "execution_count": 160,
   "id": "68f5533a",
   "metadata": {},
   "outputs": [],
   "source": [
    "from sklearn.metrics import r2_score"
   ]
  },
  {
   "cell_type": "code",
   "execution_count": 164,
   "id": "191afa1a",
   "metadata": {},
   "outputs": [
    {
     "name": "stdout",
     "output_type": "stream",
     "text": [
      "R_Squared Score: 0.5486621339354032\n"
     ]
    }
   ],
   "source": [
    "print(f\"R_Squared Score: {r2_score(y_train, y_pred_train)}\")"
   ]
  },
  {
   "cell_type": "code",
   "execution_count": 153,
   "id": "85e675a5",
   "metadata": {},
   "outputs": [
    {
     "data": {
      "text/plain": [
       "LinearRegression()"
      ]
     },
     "execution_count": 153,
     "metadata": {},
     "output_type": "execute_result"
    }
   ],
   "source": [
    "lr.fit(x_test, y_test)"
   ]
  },
  {
   "cell_type": "code",
   "execution_count": 154,
   "id": "5a6eb2cd",
   "metadata": {},
   "outputs": [
    {
     "data": {
      "text/plain": [
       "array([[19968203.84997972],\n",
       "       [17227429.10346863],\n",
       "       [26140645.92676577],\n",
       "       ...,\n",
       "       [16174027.54994615],\n",
       "       [21821851.14008353],\n",
       "       [43507659.30990396]])"
      ]
     },
     "execution_count": 154,
     "metadata": {},
     "output_type": "execute_result"
    }
   ],
   "source": [
    "y_pred_test = lr.predict(x_test)\n",
    "y_pred_test"
   ]
  },
  {
   "cell_type": "code",
   "execution_count": 157,
   "id": "1c966157",
   "metadata": {},
   "outputs": [
    {
     "data": {
      "image/png": "[encoded data removed]",
      "text/plain": [
       "<Figure size 1500x1500 with 1 Axes>"
      ]
     },
     "metadata": {},
     "output_type": "display_data"
    }
   ],
   "source": [
    "plt.figure(figsize=(15,15))\n",
    "plt.scatter(y_test, y_pred_test)\n",
    "plt.title(\"Impact of Gross on Production Budget\", fontsize=14)\n",
    "plt.xlabel(\"Gross ($)\", fontsize=12)\n",
    "plt.ylabel(\"Production Budget ($)\", fontsize=12)\n",
    "plt.show()"
   ]
  },
  {
   "cell_type": "code",
   "execution_count": 165,
   "id": "ce17d5d3",
   "metadata": {},
   "outputs": [
    {
     "name": "stdout",
     "output_type": "stream",
     "text": [
      "R_Squared Score: 0.5790942475534416\n"
     ]
    }
   ],
   "source": [
    "print(f\"R_Squared Score: {r2_score(y_test, y_pred_test)}\")"
   ]
  },
  {
   "cell_type": "code",
   "execution_count": 166,
   "id": "fbd228be",
   "metadata": {},
   "outputs": [],
   "source": [
    "import statsmodels.api as sm\n",
    "from statsmodels.formula.api import ols"
   ]
  },
  {
   "cell_type": "markdown",
   "id": "f4d45218",
   "metadata": {},
   "source": [
    "## Two - Way Analysis of Variance (ANOVA)"
   ]
  },
  {
   "cell_type": "code",
   "execution_count": 167,
   "id": "200b7dac",
   "metadata": {},
   "outputs": [
    {
     "data": {
      "text/html": [
       "<div>\n",
       "<style scoped>\n",
       "    .dataframe tbody tr th:only-of-type {\n",
       "        vertical-align: middle;\n",
       "    }\n",
       "\n",
       "    .dataframe tbody tr th {\n",
       "        vertical-align: top;\n",
       "    }\n",
       "\n",
       "    .dataframe thead th {\n",
       "        text-align: right;\n",
       "    }\n",
       "</style>\n",
       "<table border=\"1\" class=\"dataframe\">\n",
       "  <thead>\n",
       "    <tr style=\"text-align: right;\">\n",
       "      <th></th>\n",
       "      <th>df</th>\n",
       "      <th>sum_sq</th>\n",
       "      <th>mean_sq</th>\n",
       "      <th>F</th>\n",
       "      <th>PR(&gt;F)</th>\n",
       "    </tr>\n",
       "  </thead>\n",
       "  <tbody>\n",
       "    <tr>\n",
       "      <th>USD_Worldwide_Gross</th>\n",
       "      <td>1.0</td>\n",
       "      <td>4.889019e+18</td>\n",
       "      <td>4.889019e+18</td>\n",
       "      <td>6671.976808</td>\n",
       "      <td>0.000000</td>\n",
       "    </tr>\n",
       "    <tr>\n",
       "      <th>USD_Domestic_Gross</th>\n",
       "      <td>1.0</td>\n",
       "      <td>1.416033e+16</td>\n",
       "      <td>1.416033e+16</td>\n",
       "      <td>19.324407</td>\n",
       "      <td>0.000011</td>\n",
       "    </tr>\n",
       "    <tr>\n",
       "      <th>Residual</th>\n",
       "      <td>5388.0</td>\n",
       "      <td>3.948161e+18</td>\n",
       "      <td>7.327692e+14</td>\n",
       "      <td>NaN</td>\n",
       "      <td>NaN</td>\n",
       "    </tr>\n",
       "  </tbody>\n",
       "</table>\n",
       "</div>"
      ],
      "text/plain": [
       "                         df        sum_sq       mean_sq            F    PR(>F)\n",
       "USD_Worldwide_Gross     1.0  4.889019e+18  4.889019e+18  6671.976808  0.000000\n",
       "USD_Domestic_Gross      1.0  1.416033e+16  1.416033e+16    19.324407  0.000011\n",
       "Residual             5388.0  3.948161e+18  7.327692e+14          NaN       NaN"
      ]
     },
     "execution_count": 167,
     "metadata": {},
     "output_type": "execute_result"
    }
   ],
   "source": [
    "model = ols(\"USD_Production_Budget ~ USD_Worldwide_Gross + USD_Domestic_Gross\", data=df).fit()\n",
    "ANOVA = sm.stats.anova_lm(model, type=2)\n",
    "ANOVA"
   ]
  },
  {
   "cell_type": "markdown",
   "id": "e295415b",
   "metadata": {},
   "source": [
    "## Interraction Effect "
   ]
  },
  {
   "cell_type": "code",
   "execution_count": 168,
   "id": "8850abd7",
   "metadata": {},
   "outputs": [
    {
     "data": {
      "text/html": [
       "<div>\n",
       "<style scoped>\n",
       "    .dataframe tbody tr th:only-of-type {\n",
       "        vertical-align: middle;\n",
       "    }\n",
       "\n",
       "    .dataframe tbody tr th {\n",
       "        vertical-align: top;\n",
       "    }\n",
       "\n",
       "    .dataframe thead th {\n",
       "        text-align: right;\n",
       "    }\n",
       "</style>\n",
       "<table border=\"1\" class=\"dataframe\">\n",
       "  <thead>\n",
       "    <tr style=\"text-align: right;\">\n",
       "      <th></th>\n",
       "      <th>df</th>\n",
       "      <th>sum_sq</th>\n",
       "      <th>mean_sq</th>\n",
       "      <th>F</th>\n",
       "      <th>PR(&gt;F)</th>\n",
       "    </tr>\n",
       "  </thead>\n",
       "  <tbody>\n",
       "    <tr>\n",
       "      <th>USD_Worldwide_Gross</th>\n",
       "      <td>1.0</td>\n",
       "      <td>4.889019e+18</td>\n",
       "      <td>4.889019e+18</td>\n",
       "      <td>6225.518236</td>\n",
       "      <td>0.000000e+00</td>\n",
       "    </tr>\n",
       "    <tr>\n",
       "      <th>USD_Domestic_Gross</th>\n",
       "      <td>1.0</td>\n",
       "      <td>1.416033e+16</td>\n",
       "      <td>1.416033e+16</td>\n",
       "      <td>18.031305</td>\n",
       "      <td>2.209595e-05</td>\n",
       "    </tr>\n",
       "    <tr>\n",
       "      <th>USD_Worldwide_Gross:USD_Domestic_Gross</th>\n",
       "      <td>1.0</td>\n",
       "      <td>2.634817e+17</td>\n",
       "      <td>2.634817e+17</td>\n",
       "      <td>335.509094</td>\n",
       "      <td>9.427055e-73</td>\n",
       "    </tr>\n",
       "    <tr>\n",
       "      <th>Residual</th>\n",
       "      <td>5388.0</td>\n",
       "      <td>4.231300e+18</td>\n",
       "      <td>7.853192e+14</td>\n",
       "      <td>NaN</td>\n",
       "      <td>NaN</td>\n",
       "    </tr>\n",
       "  </tbody>\n",
       "</table>\n",
       "</div>"
      ],
      "text/plain": [
       "                                            df        sum_sq       mean_sq  \\\n",
       "USD_Worldwide_Gross                        1.0  4.889019e+18  4.889019e+18   \n",
       "USD_Domestic_Gross                         1.0  1.416033e+16  1.416033e+16   \n",
       "USD_Worldwide_Gross:USD_Domestic_Gross     1.0  2.634817e+17  2.634817e+17   \n",
       "Residual                                5388.0  4.231300e+18  7.853192e+14   \n",
       "\n",
       "                                                  F        PR(>F)  \n",
       "USD_Worldwide_Gross                     6225.518236  0.000000e+00  \n",
       "USD_Domestic_Gross                        18.031305  2.209595e-05  \n",
       "USD_Worldwide_Gross:USD_Domestic_Gross   335.509094  9.427055e-73  \n",
       "Residual                                        NaN           NaN  "
      ]
     },
     "execution_count": 168,
     "metadata": {},
     "output_type": "execute_result"
    }
   ],
   "source": [
    "model = ols(\"USD_Production_Budget ~ USD_Worldwide_Gross + USD_Domestic_Gross + USD_Worldwide_Gross * USD_Domestic_Gross\", data=df).fit()\n",
    "ANOVA = sm.stats.anova_lm(model, type=2)\n",
    "ANOVA"
   ]
  },
  {
   "cell_type": "code",
   "execution_count": null,
   "id": "9a81d947",
   "metadata": {},
   "outputs": [],
   "source": []
  }
 ],
 "metadata": {
  "kernelspec": {
   "display_name": "Python 3 (ipykernel)",
   "language": "python",
   "name": "python3"
  },
  "language_info": {
   "codemirror_mode": {
    "name": "ipython",
    "version": 3
   },
   "file_extension": ".py",
   "mimetype": "text/x-python",
   "name": "python",
   "nbconvert_exporter": "python",
   "pygments_lexer": "ipython3",
   "version": "3.9.13"
  }
 },
 "nbformat": 4,
 "nbformat_minor": 5
}
