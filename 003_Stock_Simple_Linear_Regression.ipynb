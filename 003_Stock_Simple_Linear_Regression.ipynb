{
 "cells": [
  {
   "cell_type": "code",
   "execution_count": 1,
   "id": "c4a19fd1",
   "metadata": {},
   "outputs": [],
   "source": [
    "import pandas as pd\n",
    "import numpy as np\n",
    "import matplotlib.pyplot as plt\n",
    "import datetime as dt\n",
    "\n",
    "\n",
    "import warnings \n",
    "warnings.filterwarnings(\"ignore\")\n",
    "\n",
    "from pandas_datareader import data as pdr\n",
    "import yfinance as yf \n",
    "yf.pdr_override()"
   ]
  },
  {
   "cell_type": "code",
   "execution_count": 2,
   "id": "e68dedc0",
   "metadata": {},
   "outputs": [
    {
     "name": "stdout",
     "output_type": "stream",
     "text": [
      "[*********************100%***********************]  1 of 1 completed\n"
     ]
    }
   ],
   "source": [
    "# Set time horizon\n",
    "end = dt.datetime.now()\n",
    "start = end - dt.timedelta(days = 500)\n",
    "\n",
    "# Fetch Data \n",
    "df = pdr.get_data_yahoo(\"NFLX\", start, end)"
   ]
  },
  {
   "cell_type": "code",
   "execution_count": 3,
   "id": "dbc02770",
   "metadata": {},
   "outputs": [
    {
     "data": {
      "text/html": [
       "<div>\n",
       "<style scoped>\n",
       "    .dataframe tbody tr th:only-of-type {\n",
       "        vertical-align: middle;\n",
       "    }\n",
       "\n",
       "    .dataframe tbody tr th {\n",
       "        vertical-align: top;\n",
       "    }\n",
       "\n",
       "    .dataframe thead th {\n",
       "        text-align: right;\n",
       "    }\n",
       "</style>\n",
       "<table border=\"1\" class=\"dataframe\">\n",
       "  <thead>\n",
       "    <tr style=\"text-align: right;\">\n",
       "      <th></th>\n",
       "      <th>Open</th>\n",
       "      <th>High</th>\n",
       "      <th>Low</th>\n",
       "      <th>Close</th>\n",
       "      <th>Adj Close</th>\n",
       "      <th>Volume</th>\n",
       "    </tr>\n",
       "    <tr>\n",
       "      <th>Date</th>\n",
       "      <th></th>\n",
       "      <th></th>\n",
       "      <th></th>\n",
       "      <th></th>\n",
       "      <th></th>\n",
       "      <th></th>\n",
       "    </tr>\n",
       "  </thead>\n",
       "  <tbody>\n",
       "    <tr>\n",
       "      <th>2021-10-29</th>\n",
       "      <td>673.059998</td>\n",
       "      <td>690.969971</td>\n",
       "      <td>671.239990</td>\n",
       "      <td>690.309998</td>\n",
       "      <td>690.309998</td>\n",
       "      <td>3825300</td>\n",
       "    </tr>\n",
       "    <tr>\n",
       "      <th>2021-11-01</th>\n",
       "      <td>689.059998</td>\n",
       "      <td>689.969971</td>\n",
       "      <td>676.539978</td>\n",
       "      <td>681.169983</td>\n",
       "      <td>681.169983</td>\n",
       "      <td>3110900</td>\n",
       "    </tr>\n",
       "    <tr>\n",
       "      <th>2021-11-02</th>\n",
       "      <td>683.109985</td>\n",
       "      <td>687.679993</td>\n",
       "      <td>673.820007</td>\n",
       "      <td>677.719971</td>\n",
       "      <td>677.719971</td>\n",
       "      <td>3888600</td>\n",
       "    </tr>\n",
       "    <tr>\n",
       "      <th>2021-11-03</th>\n",
       "      <td>677.270020</td>\n",
       "      <td>689.390015</td>\n",
       "      <td>677.270020</td>\n",
       "      <td>688.289978</td>\n",
       "      <td>688.289978</td>\n",
       "      <td>2334900</td>\n",
       "    </tr>\n",
       "    <tr>\n",
       "      <th>2021-11-04</th>\n",
       "      <td>685.890015</td>\n",
       "      <td>685.940002</td>\n",
       "      <td>665.500000</td>\n",
       "      <td>668.400024</td>\n",
       "      <td>668.400024</td>\n",
       "      <td>4865000</td>\n",
       "    </tr>\n",
       "  </tbody>\n",
       "</table>\n",
       "</div>"
      ],
      "text/plain": [
       "                  Open        High         Low       Close   Adj Close  \\\n",
       "Date                                                                     \n",
       "2021-10-29  673.059998  690.969971  671.239990  690.309998  690.309998   \n",
       "2021-11-01  689.059998  689.969971  676.539978  681.169983  681.169983   \n",
       "2021-11-02  683.109985  687.679993  673.820007  677.719971  677.719971   \n",
       "2021-11-03  677.270020  689.390015  677.270020  688.289978  688.289978   \n",
       "2021-11-04  685.890015  685.940002  665.500000  668.400024  668.400024   \n",
       "\n",
       "             Volume  \n",
       "Date                 \n",
       "2021-10-29  3825300  \n",
       "2021-11-01  3110900  \n",
       "2021-11-02  3888600  \n",
       "2021-11-03  2334900  \n",
       "2021-11-04  4865000  "
      ]
     },
     "execution_count": 3,
     "metadata": {},
     "output_type": "execute_result"
    }
   ],
   "source": [
    "df.head()"
   ]
  },
  {
   "cell_type": "code",
   "execution_count": 4,
   "id": "a72ff221",
   "metadata": {},
   "outputs": [
    {
     "data": {
      "text/html": [
       "<div>\n",
       "<style scoped>\n",
       "    .dataframe tbody tr th:only-of-type {\n",
       "        vertical-align: middle;\n",
       "    }\n",
       "\n",
       "    .dataframe tbody tr th {\n",
       "        vertical-align: top;\n",
       "    }\n",
       "\n",
       "    .dataframe thead th {\n",
       "        text-align: right;\n",
       "    }\n",
       "</style>\n",
       "<table border=\"1\" class=\"dataframe\">\n",
       "  <thead>\n",
       "    <tr style=\"text-align: right;\">\n",
       "      <th></th>\n",
       "      <th>Open</th>\n",
       "      <th>High</th>\n",
       "      <th>Low</th>\n",
       "      <th>Close</th>\n",
       "      <th>Adj Close</th>\n",
       "      <th>Volume</th>\n",
       "    </tr>\n",
       "    <tr>\n",
       "      <th>Date</th>\n",
       "      <th></th>\n",
       "      <th></th>\n",
       "      <th></th>\n",
       "      <th></th>\n",
       "      <th></th>\n",
       "      <th></th>\n",
       "    </tr>\n",
       "  </thead>\n",
       "  <tbody>\n",
       "    <tr>\n",
       "      <th>2023-03-07</th>\n",
       "      <td>312.679993</td>\n",
       "      <td>314.299988</td>\n",
       "      <td>306.619995</td>\n",
       "      <td>308.470001</td>\n",
       "      <td>308.470001</td>\n",
       "      <td>4553100</td>\n",
       "    </tr>\n",
       "    <tr>\n",
       "      <th>2023-03-08</th>\n",
       "      <td>309.290009</td>\n",
       "      <td>311.829987</td>\n",
       "      <td>305.750000</td>\n",
       "      <td>311.790009</td>\n",
       "      <td>311.790009</td>\n",
       "      <td>3479500</td>\n",
       "    </tr>\n",
       "    <tr>\n",
       "      <th>2023-03-09</th>\n",
       "      <td>312.079987</td>\n",
       "      <td>312.510010</td>\n",
       "      <td>294.880005</td>\n",
       "      <td>297.779999</td>\n",
       "      <td>297.779999</td>\n",
       "      <td>7443400</td>\n",
       "    </tr>\n",
       "    <tr>\n",
       "      <th>2023-03-10</th>\n",
       "      <td>297.899994</td>\n",
       "      <td>298.790009</td>\n",
       "      <td>289.000000</td>\n",
       "      <td>292.760010</td>\n",
       "      <td>292.760010</td>\n",
       "      <td>5753800</td>\n",
       "    </tr>\n",
       "    <tr>\n",
       "      <th>2023-03-13</th>\n",
       "      <td>287.339996</td>\n",
       "      <td>299.239990</td>\n",
       "      <td>285.355011</td>\n",
       "      <td>296.959991</td>\n",
       "      <td>296.959991</td>\n",
       "      <td>3300710</td>\n",
       "    </tr>\n",
       "  </tbody>\n",
       "</table>\n",
       "</div>"
      ],
      "text/plain": [
       "                  Open        High         Low       Close   Adj Close  \\\n",
       "Date                                                                     \n",
       "2023-03-07  312.679993  314.299988  306.619995  308.470001  308.470001   \n",
       "2023-03-08  309.290009  311.829987  305.750000  311.790009  311.790009   \n",
       "2023-03-09  312.079987  312.510010  294.880005  297.779999  297.779999   \n",
       "2023-03-10  297.899994  298.790009  289.000000  292.760010  292.760010   \n",
       "2023-03-13  287.339996  299.239990  285.355011  296.959991  296.959991   \n",
       "\n",
       "             Volume  \n",
       "Date                 \n",
       "2023-03-07  4553100  \n",
       "2023-03-08  3479500  \n",
       "2023-03-09  7443400  \n",
       "2023-03-10  5753800  \n",
       "2023-03-13  3300710  "
      ]
     },
     "execution_count": 4,
     "metadata": {},
     "output_type": "execute_result"
    }
   ],
   "source": [
    "df.tail()"
   ]
  },
  {
   "cell_type": "code",
   "execution_count": 5,
   "id": "e2deb27c",
   "metadata": {},
   "outputs": [],
   "source": [
    "x = df[\"Open\"]\n",
    "y = df[\"Close\"]"
   ]
  },
  {
   "cell_type": "code",
   "execution_count": 6,
   "id": "f8a70a94",
   "metadata": {},
   "outputs": [
    {
     "name": "stdout",
     "output_type": "stream",
     "text": [
      "(343,)\n",
      "(343,)\n"
     ]
    }
   ],
   "source": [
    "print(x.shape)\n",
    "print(y.shape)"
   ]
  },
  {
   "cell_type": "code",
   "execution_count": 7,
   "id": "5b224b63",
   "metadata": {},
   "outputs": [
    {
     "name": "stdout",
     "output_type": "stream",
     "text": [
      "1\n",
      "1\n"
     ]
    }
   ],
   "source": [
    "print(x.ndim)\n",
    "print(y.ndim)"
   ]
  },
  {
   "cell_type": "code",
   "execution_count": 8,
   "id": "7e305b26",
   "metadata": {},
   "outputs": [],
   "source": [
    "from sklearn.model_selection import train_test_split\n",
    "x_train, x_test, y_train, y_test = train_test_split(x, y, test_size=0.3, random_state=0)"
   ]
  },
  {
   "cell_type": "code",
   "execution_count": 9,
   "id": "2c1f9a08",
   "metadata": {},
   "outputs": [],
   "source": [
    "x_train = np.array(x_train).reshape(-1, 1)\n",
    "x_test = np.array(x_test).reshape(-1, 1)\n",
    "y_train = np.array(y_train).reshape(-1, 1)\n",
    "y_test = np.array(y_test).reshape(-1, 1)"
   ]
  },
  {
   "cell_type": "code",
   "execution_count": 10,
   "id": "60377699",
   "metadata": {},
   "outputs": [
    {
     "name": "stdout",
     "output_type": "stream",
     "text": [
      "(240, 1)\n",
      "(103, 1)\n",
      "(240, 1)\n",
      "(103, 1)\n"
     ]
    }
   ],
   "source": [
    "print(x_train.shape)\n",
    "print(x_test.shape)\n",
    "print(y_train.shape)\n",
    "print(y_test.shape)"
   ]
  },
  {
   "cell_type": "code",
   "execution_count": 11,
   "id": "5cc6b238",
   "metadata": {},
   "outputs": [
    {
     "name": "stdout",
     "output_type": "stream",
     "text": [
      "2\n",
      "2\n",
      "2\n",
      "2\n"
     ]
    }
   ],
   "source": [
    "print(x_train.ndim)\n",
    "print(x_test.ndim)\n",
    "print(y_train.ndim)\n",
    "print(y_test.ndim)"
   ]
  },
  {
   "cell_type": "code",
   "execution_count": 12,
   "id": "91544219",
   "metadata": {},
   "outputs": [],
   "source": [
    "from sklearn.linear_model import LinearRegression\n",
    "lr = LinearRegression()"
   ]
  },
  {
   "cell_type": "markdown",
   "id": "c4912ac3",
   "metadata": {},
   "source": [
    "### Training Data"
   ]
  },
  {
   "cell_type": "code",
   "execution_count": 13,
   "id": "20f64bad",
   "metadata": {},
   "outputs": [
    {
     "data": {
      "text/plain": [
       "LinearRegression()"
      ]
     },
     "execution_count": 13,
     "metadata": {},
     "output_type": "execute_result"
    }
   ],
   "source": [
    "lr.fit(x_train, y_train)"
   ]
  },
  {
   "cell_type": "code",
   "execution_count": 14,
   "id": "2f575ff9",
   "metadata": {},
   "outputs": [
    {
     "name": "stdout",
     "output_type": "stream",
     "text": [
      "Linear Regression Intercept: [3.08041164]\n",
      "Linear Regression Coefficient: [[0.99078211]]\n"
     ]
    }
   ],
   "source": [
    "print(f\"Linear Regression Intercept: {lr.intercept_}\")\n",
    "print(f\"Linear Regression Coefficient: {lr.coef_}\")"
   ]
  },
  {
   "cell_type": "code",
   "execution_count": 15,
   "id": "e2dfc14c",
   "metadata": {},
   "outputs": [
    {
     "data": {
      "text/plain": [
       "array([[594.66653076],\n",
       "       [358.92971937],\n",
       "       [376.40710014],\n",
       "       [589.23700366],\n",
       "       [242.46327884],\n",
       "       [377.61585553],\n",
       "       [385.52230769],\n",
       "       [322.67700545],\n",
       "       [321.66638834],\n",
       "       [175.10991495],\n",
       "       [597.46048311],\n",
       "       [165.52905372],\n",
       "       [232.16905327],\n",
       "       [293.5678221 ],\n",
       "       [180.97534325],\n",
       "       [237.57871515],\n",
       "       [388.79187657],\n",
       "       [229.60293123],\n",
       "       [355.99701278],\n",
       "       [589.62342319],\n",
       "       [187.85137354],\n",
       "       [362.93248758],\n",
       "       [171.26567551],\n",
       "       [387.09764762],\n",
       "       [311.17400938],\n",
       "       [356.42304183],\n",
       "       [289.41644262],\n",
       "       [194.48961068],\n",
       "       [614.17503301],\n",
       "       [225.17413397],\n",
       "       [309.34105642],\n",
       "       [627.27314353],\n",
       "       [247.96212259],\n",
       "       [175.4764995 ],\n",
       "       [357.31473969],\n",
       "       [287.38535138],\n",
       "       [372.05758239],\n",
       "       [201.88083679],\n",
       "       [226.59094513],\n",
       "       [220.87414322],\n",
       "       [584.10475956],\n",
       "       [248.90336258],\n",
       "       [273.34595552],\n",
       "       [317.15834181],\n",
       "       [242.03723467],\n",
       "       [603.10795325],\n",
       "       [310.16342251],\n",
       "       [201.68268339],\n",
       "       [335.09150413],\n",
       "       [361.7038972 ],\n",
       "       [234.53702192],\n",
       "       [241.23470357],\n",
       "       [655.02496022],\n",
       "       [236.26098824],\n",
       "       [382.27254356],\n",
       "       [172.0087621 ],\n",
       "       [401.47390577],\n",
       "       [239.63954376],\n",
       "       [281.72796374],\n",
       "       [337.46937515],\n",
       "       [186.57325615],\n",
       "       [179.04332115],\n",
       "       [227.49256049],\n",
       "       [172.25645763],\n",
       "       [391.07069357],\n",
       "       [312.28368051],\n",
       "       [246.020183  ],\n",
       "       [194.32117954],\n",
       "       [359.78177748],\n",
       "       [364.71588329],\n",
       "       [295.48994182],\n",
       "       [170.78018683],\n",
       "       [199.20572811],\n",
       "       [672.86895577],\n",
       "       [400.90915271],\n",
       "       [373.78153359],\n",
       "       [213.80986191],\n",
       "       [231.42596669],\n",
       "       [179.48917008],\n",
       "       [682.6479704 ],\n",
       "       [371.65135809],\n",
       "       [236.05291735],\n",
       "       [381.61862374],\n",
       "       [406.63587212],\n",
       "       [284.46253205],\n",
       "       [184.03685636],\n",
       "       [309.51942018],\n",
       "       [310.70834058],\n",
       "       [230.65315785],\n",
       "       [358.28571705],\n",
       "       [612.36188481],\n",
       "       [286.84040307],\n",
       "       [686.72007038],\n",
       "       [373.18705827],\n",
       "       [266.6185365 ],\n",
       "       [674.10743342],\n",
       "       [230.58379585],\n",
       "       [199.92899482],\n",
       "       [620.0899732 ],\n",
       "       [609.43906548],\n",
       "       [391.99211368],\n",
       "       [224.12390735],\n",
       "       [217.74326811],\n",
       "       [358.85043987],\n",
       "       [260.34689902],\n",
       "       [238.73794353],\n",
       "       [671.85833867],\n",
       "       [319.43712858],\n",
       "       [285.97842747],\n",
       "       [223.41054301],\n",
       "       [331.10854068],\n",
       "       [354.89722891],\n",
       "       [542.33341224],\n",
       "       [679.8935671 ],\n",
       "       [678.04080938],\n",
       "       [389.0395721 ],\n",
       "       [269.55127333],\n",
       "       [367.68822963],\n",
       "       [657.00652445],\n",
       "       [595.11233434],\n",
       "       [354.80806215],\n",
       "       [383.4515767 ],\n",
       "       [608.16097832],\n",
       "       [688.31521507],\n",
       "       [178.51820784],\n",
       "       [535.12048942],\n",
       "       [227.65108925],\n",
       "       [286.35492951],\n",
       "       [285.44339667],\n",
       "       [312.87815582],\n",
       "       [328.05694507],\n",
       "       [315.62264163],\n",
       "       [195.30204416],\n",
       "       [245.87157173],\n",
       "       [309.43025342],\n",
       "       [386.27531177],\n",
       "       [290.13972445],\n",
       "       [306.75512962],\n",
       "       [188.10897145],\n",
       "       [224.31214325],\n",
       "       [614.49203007],\n",
       "       [298.66042644],\n",
       "       [225.61008052],\n",
       "       [607.46741874],\n",
       "       [343.83020963],\n",
       "       [188.0792492 ],\n",
       "       [669.93621895],\n",
       "       [298.57125968],\n",
       "       [242.81005862],\n",
       "       [201.37554335],\n",
       "       [237.89577269],\n",
       "       [349.85415158],\n",
       "       [226.66030714],\n",
       "       [341.65047688],\n",
       "       [370.79929999],\n",
       "       [193.80596861],\n",
       "       [272.59295144],\n",
       "       [348.07075587],\n",
       "       [353.67855603],\n",
       "       [359.46475018],\n",
       "       [316.98989555],\n",
       "       [177.73548151],\n",
       "       [397.59002658],\n",
       "       [547.47557383],\n",
       "       [234.5568418 ],\n",
       "       [226.60086263],\n",
       "       [193.33039743],\n",
       "       [181.69860996],\n",
       "       [209.33152252],\n",
       "       [179.10276566],\n",
       "       [326.81846743],\n",
       "       [298.23439739],\n",
       "       [290.40722473],\n",
       "       [233.4867953 ],\n",
       "       [388.42529203],\n",
       "       [214.91953304],\n",
       "       [283.65008346],\n",
       "       [347.78342059],\n",
       "       [360.94100586],\n",
       "       [386.8400346 ],\n",
       "       [291.39800685],\n",
       "       [221.05247675],\n",
       "       [399.81928634],\n",
       "       [261.73398793],\n",
       "       [330.00878704],\n",
       "       [610.41993009],\n",
       "       [383.13451916],\n",
       "       [281.85677025],\n",
       "       [326.5707719 ],\n",
       "       [613.79853097],\n",
       "       [515.90920972],\n",
       "       [298.39292615],\n",
       "       [198.90849045],\n",
       "       [296.53025094],\n",
       "       [624.87546775],\n",
       "       [222.3503989 ],\n",
       "       [184.88892958],\n",
       "       [196.15411738],\n",
       "       [265.63767188],\n",
       "       [241.80935901],\n",
       "       [596.27159295],\n",
       "       [595.7464494 ],\n",
       "       [199.5425904 ],\n",
       "       [217.56491947],\n",
       "       [363.36843413],\n",
       "       [290.39730724],\n",
       "       [360.32672578],\n",
       "       [199.94881469],\n",
       "       [289.17866459],\n",
       "       [364.87441206],\n",
       "       [177.04193705],\n",
       "       [379.34972423],\n",
       "       [245.63377858],\n",
       "       [250.57778677],\n",
       "       [350.79540668],\n",
       "       [295.08371752],\n",
       "       [404.67411265],\n",
       "       [603.50429029],\n",
       "       [190.53638461],\n",
       "       [342.77006551],\n",
       "       [178.77580575],\n",
       "       [331.25718218],\n",
       "       [612.41141182],\n",
       "       [228.47344022],\n",
       "       [349.83434682],\n",
       "       [349.65598306],\n",
       "       [407.96351652],\n",
       "       [360.16819702],\n",
       "       [282.40171855],\n",
       "       [235.32965064],\n",
       "       [311.21364913],\n",
       "       [221.76584108],\n",
       "       [647.32656384],\n",
       "       [237.88587031],\n",
       "       [298.03625911],\n",
       "       [349.35876052],\n",
       "       [226.30362497],\n",
       "       [333.22882891],\n",
       "       [552.31059538],\n",
       "       [187.38570474]])"
      ]
     },
     "execution_count": 15,
     "metadata": {},
     "output_type": "execute_result"
    }
   ],
   "source": [
    "y_pred_train = lr.predict(x_train)\n",
    "y_pred_train"
   ]
  },
  {
   "cell_type": "code",
   "execution_count": 16,
   "id": "45e708ce",
   "metadata": {},
   "outputs": [
    {
     "data": {
      "text/plain": [
       "array([[338.67813054],\n",
       "       [320.13068816],\n",
       "       [177.4679661 ],\n",
       "       [321.56733432],\n",
       "       [647.37609086],\n",
       "       [316.62331101],\n",
       "       [215.40502172],\n",
       "       [513.33320041],\n",
       "       [227.98795154],\n",
       "       [600.8786935 ],\n",
       "       [447.19849429],\n",
       "       [323.9650101 ],\n",
       "       [177.9435524 ],\n",
       "       [374.8515952 ],\n",
       "       [689.04838416],\n",
       "       [225.79831642],\n",
       "       [275.02037971],\n",
       "       [178.51820784],\n",
       "       [311.77840219],\n",
       "       [617.19690636],\n",
       "       [323.79659407],\n",
       "       [355.7096775 ],\n",
       "       [271.83006009],\n",
       "       [231.19809104],\n",
       "       [518.36639048],\n",
       "       [378.7255569 ],\n",
       "       [231.98080225],\n",
       "       [187.23707835],\n",
       "       [243.51350546],\n",
       "       [215.40502172],\n",
       "       [660.16712181],\n",
       "       [403.14832996],\n",
       "       [535.18985143],\n",
       "       [193.0827019 ],\n",
       "       [232.56536007],\n",
       "       [650.75469173],\n",
       "       [304.26825683],\n",
       "       [228.66167612],\n",
       "       [368.45112098],\n",
       "       [192.874631  ],\n",
       "       [401.34509926],\n",
       "       [516.05785122],\n",
       "       [311.28301113],\n",
       "       [186.10758735],\n",
       "       [197.45203953],\n",
       "       [393.68634263],\n",
       "       [357.33454445],\n",
       "       [319.11018379],\n",
       "       [177.02211718],\n",
       "       [181.91658324],\n",
       "       [379.33983697],\n",
       "       [432.0494273 ],\n",
       "       [409.46952469],\n",
       "       [193.02325739],\n",
       "       [307.25052067],\n",
       "       [377.86355106],\n",
       "       [290.6351155 ],\n",
       "       [187.51449614],\n",
       "       [221.23081027],\n",
       "       [260.60451204],\n",
       "       [339.94633044],\n",
       "       [665.12103238],\n",
       "       [209.95572009],\n",
       "       [226.64048726],\n",
       "       [190.50666235],\n",
       "       [536.60666259],\n",
       "       [183.40275641],\n",
       "       [222.96467897],\n",
       "       [388.44512702],\n",
       "       [245.66350083],\n",
       "       [646.57355976],\n",
       "       [223.78702994],\n",
       "       [194.59859732],\n",
       "       [420.63562823],\n",
       "       [245.50497206],\n",
       "       [675.09821553],\n",
       "       [302.41549912],\n",
       "       [178.60737461],\n",
       "       [655.19337625],\n",
       "       [296.52036368],\n",
       "       [383.927163  ],\n",
       "       [282.97635888],\n",
       "       [332.51546458],\n",
       "       [357.47326846],\n",
       "       [238.6884014 ],\n",
       "       [185.65183604],\n",
       "       [297.66964433],\n",
       "       [376.67463067],\n",
       "       [227.45293585],\n",
       "       [203.30756545],\n",
       "       [386.12667026],\n",
       "       [685.78873277],\n",
       "       [287.77174068],\n",
       "       [650.07104965],\n",
       "       [227.04671156],\n",
       "       [221.26054764],\n",
       "       [177.54723049],\n",
       "       [336.76592832],\n",
       "       [298.42264841],\n",
       "       [358.21635504],\n",
       "       [290.44686448],\n",
       "       [236.67711492],\n",
       "       [660.92998292]])"
      ]
     },
     "execution_count": 16,
     "metadata": {},
     "output_type": "execute_result"
    }
   ],
   "source": [
    "y_pred_test = lr.predict(x_test)\n",
    "y_pred_test"
   ]
  },
  {
   "cell_type": "code",
   "execution_count": 17,
   "id": "6e1dc19d",
   "metadata": {},
   "outputs": [
    {
     "data": {
      "image/png": "[encoded data removed]",
      "text/plain": [
       "<Figure size 1200x1200 with 1 Axes>"
      ]
     },
     "metadata": {},
     "output_type": "display_data"
    }
   ],
   "source": [
    "plt.figure(figsize=(12, 12))\n",
    "plt.scatter(x_train, y_train)\n",
    "plt.plot(x_train, y_pred_train, color=\"red\")\n",
    "plt.title(\"Impact of Open Price on Close Price for Stocks\", fontsize=12)\n",
    "plt.xlabel(\"Open Price ($)\", fontsize=10)\n",
    "plt.ylabel(\"Close Price ($)\", fontsize=10)\n",
    "plt.show()"
   ]
  },
  {
   "cell_type": "code",
   "execution_count": 18,
   "id": "994b4194",
   "metadata": {},
   "outputs": [],
   "source": [
    "import statsmodels.api as sm\n",
    "from statsmodels.formula.api import ols"
   ]
  },
  {
   "cell_type": "code",
   "execution_count": 19,
   "id": "7f0110c0",
   "metadata": {},
   "outputs": [
    {
     "data": {
      "text/html": [
       "<div>\n",
       "<style scoped>\n",
       "    .dataframe tbody tr th:only-of-type {\n",
       "        vertical-align: middle;\n",
       "    }\n",
       "\n",
       "    .dataframe tbody tr th {\n",
       "        vertical-align: top;\n",
       "    }\n",
       "\n",
       "    .dataframe thead th {\n",
       "        text-align: right;\n",
       "    }\n",
       "</style>\n",
       "<table border=\"1\" class=\"dataframe\">\n",
       "  <thead>\n",
       "    <tr style=\"text-align: right;\">\n",
       "      <th></th>\n",
       "      <th>df</th>\n",
       "      <th>sum_sq</th>\n",
       "      <th>mean_sq</th>\n",
       "      <th>F</th>\n",
       "      <th>PR(&gt;F)</th>\n",
       "    </tr>\n",
       "  </thead>\n",
       "  <tbody>\n",
       "    <tr>\n",
       "      <th>Close</th>\n",
       "      <td>1.0</td>\n",
       "      <td>7.104178e+06</td>\n",
       "      <td>7.104178e+06</td>\n",
       "      <td>98832.72313</td>\n",
       "      <td>0.0</td>\n",
       "    </tr>\n",
       "    <tr>\n",
       "      <th>Residual</th>\n",
       "      <td>341.0</td>\n",
       "      <td>2.451136e+04</td>\n",
       "      <td>7.188083e+01</td>\n",
       "      <td>NaN</td>\n",
       "      <td>NaN</td>\n",
       "    </tr>\n",
       "  </tbody>\n",
       "</table>\n",
       "</div>"
      ],
      "text/plain": [
       "             df        sum_sq       mean_sq            F  PR(>F)\n",
       "Close       1.0  7.104178e+06  7.104178e+06  98832.72313     0.0\n",
       "Residual  341.0  2.451136e+04  7.188083e+01          NaN     NaN"
      ]
     },
     "execution_count": 19,
     "metadata": {},
     "output_type": "execute_result"
    }
   ],
   "source": [
    "model = ols(\"Open ~ Close\", data =df).fit()\n",
    "ANOVA = sm.stats.anova_lm(model, type=2)\n",
    "ANOVA"
   ]
  },
  {
   "cell_type": "code",
   "execution_count": 20,
   "id": "cf971cf8",
   "metadata": {},
   "outputs": [],
   "source": [
    "from sklearn.metrics import r2_score "
   ]
  },
  {
   "cell_type": "code",
   "execution_count": 21,
   "id": "fbc99083",
   "metadata": {},
   "outputs": [
    {
     "name": "stdout",
     "output_type": "stream",
     "text": [
      "R-Squared Score: 0.9999149919931809\n"
     ]
    }
   ],
   "source": [
    "print(f\"R-Squared Score: {r2_score(x_train, y_pred_train)}\")"
   ]
  },
  {
   "cell_type": "markdown",
   "id": "e967fcc0",
   "metadata": {},
   "source": [
    "### Testing Data "
   ]
  },
  {
   "cell_type": "code",
   "execution_count": 22,
   "id": "e32b03d7",
   "metadata": {},
   "outputs": [
    {
     "data": {
      "text/plain": [
       "LinearRegression()"
      ]
     },
     "execution_count": 22,
     "metadata": {},
     "output_type": "execute_result"
    }
   ],
   "source": [
    "lr.fit(x_test, y_test)"
   ]
  },
  {
   "cell_type": "code",
   "execution_count": 23,
   "id": "a7f9c538",
   "metadata": {},
   "outputs": [
    {
     "name": "stdout",
     "output_type": "stream",
     "text": [
      "Intercept: [3.27726548]\n",
      "Coefficient: [[0.9852577]]\n"
     ]
    }
   ],
   "source": [
    "print(f\"Intercept: {lr.intercept_}\")\n",
    "print(f\"Coefficient: {lr.coef_}\")"
   ]
  },
  {
   "cell_type": "code",
   "execution_count": 24,
   "id": "5edb224b",
   "metadata": {
    "scrolled": true
   },
   "outputs": [
    {
     "data": {
      "text/plain": [
       "array([[337.00375492],\n",
       "       [318.55972956],\n",
       "       [176.69246789],\n",
       "       [319.98836526],\n",
       "       [643.98047374],\n",
       "       [315.07190889],\n",
       "       [214.41799365],\n",
       "       [510.68498112],\n",
       "       [226.93076344],\n",
       "       [597.74233708],\n",
       "       [444.91902962],\n",
       "       [322.37267205],\n",
       "       [177.16540241],\n",
       "       [372.97552317],\n",
       "       [685.42041021],\n",
       "       [224.75333731],\n",
       "       [273.70094767],\n",
       "       [177.73685368],\n",
       "       [310.25401437],\n",
       "       [613.96956267],\n",
       "       [322.20519508],\n",
       "       [353.94033719],\n",
       "       [270.52841668],\n",
       "       [230.1230038 ],\n",
       "       [515.69010707],\n",
       "       [376.82788439],\n",
       "       [230.90135077],\n",
       "       [186.40710942],\n",
       "       [242.3697498 ],\n",
       "       [214.41799365],\n",
       "       [656.70018432],\n",
       "       [401.11448069],\n",
       "       [532.41976358],\n",
       "       [192.22013887],\n",
       "       [231.4826492 ],\n",
       "       [647.34023617],\n",
       "       [302.78574416],\n",
       "       [227.60073146],\n",
       "       [366.61073678],\n",
       "       [192.01322813],\n",
       "       [399.32130446],\n",
       "       [513.39443979],\n",
       "       [309.76138552],\n",
       "       [185.28391624],\n",
       "       [196.5651139 ],\n",
       "       [391.70525161],\n",
       "       [355.55614418],\n",
       "       [317.54491533],\n",
       "       [176.24910493],\n",
       "       [181.11628038],\n",
       "       [377.43873935],\n",
       "       [429.85443097],\n",
       "       [407.40042963],\n",
       "       [192.16102581],\n",
       "       [305.75137946],\n",
       "       [375.97068493],\n",
       "       [289.22861865],\n",
       "       [186.68298037],\n",
       "       [220.21129871],\n",
       "       [259.36546016],\n",
       "       [338.26488357],\n",
       "       [661.62647282],\n",
       "       [208.9990763 ],\n",
       "       [225.59081236],\n",
       "       [189.65846283],\n",
       "       [533.82867487],\n",
       "       [182.59416693],\n",
       "       [221.93549968],\n",
       "       [386.49326002],\n",
       "       [244.5077572 ],\n",
       "       [643.18241741],\n",
       "       [222.75326538],\n",
       "       [193.72758195],\n",
       "       [418.50427308],\n",
       "       [244.35011236],\n",
       "       [671.54802508],\n",
       "       [300.94331707],\n",
       "       [177.82552326],\n",
       "       [651.75417142],\n",
       "       [295.0810518 ],\n",
       "       [382.00048732],\n",
       "       [281.6125658 ],\n",
       "       [330.87545082],\n",
       "       [355.69409469],\n",
       "       [237.57154961],\n",
       "       [184.83070611],\n",
       "       [296.22392427],\n",
       "       [374.78839373],\n",
       "       [226.39873089],\n",
       "       [202.38799052],\n",
       "       [384.18773055],\n",
       "       [682.17893402],\n",
       "       [286.38120946],\n",
       "       [646.66040595],\n",
       "       [225.99477163],\n",
       "       [220.24087027],\n",
       "       [176.77129031],\n",
       "       [335.10221477],\n",
       "       [296.97272974],\n",
       "       [356.43303797],\n",
       "       [289.04141728],\n",
       "       [235.57147768],\n",
       "       [657.45879186]])"
      ]
     },
     "execution_count": 24,
     "metadata": {},
     "output_type": "execute_result"
    }
   ],
   "source": [
    "y_pred_test = lr.predict(x_test)\n",
    "y_pred_test"
   ]
  },
  {
   "cell_type": "code",
   "execution_count": 25,
   "id": "7cf87202",
   "metadata": {},
   "outputs": [
    {
     "data": {
      "image/png": "[encoded data removed]",
      "text/plain": [
       "<Figure size 1200x1200 with 1 Axes>"
      ]
     },
     "metadata": {},
     "output_type": "display_data"
    }
   ],
   "source": [
    "plt.figure(figsize=(12, 12))\n",
    "plt.scatter(x_test, y_test)\n",
    "plt.plot(x_test, y_pred_test, color=\"red\")\n",
    "plt.title(\"Impact of Open Price on Close Price for Stocks\", fontsize=12)\n",
    "plt.xlabel(\"Open Price ($)\", fontsize=10)\n",
    "plt.ylabel(\"Close Price ($)\", fontsize=10)\n",
    "plt.show()"
   ]
  },
  {
   "cell_type": "code",
   "execution_count": 26,
   "id": "53f46da1",
   "metadata": {},
   "outputs": [
    {
     "data": {
      "text/html": [
       "<div>\n",
       "<style scoped>\n",
       "    .dataframe tbody tr th:only-of-type {\n",
       "        vertical-align: middle;\n",
       "    }\n",
       "\n",
       "    .dataframe tbody tr th {\n",
       "        vertical-align: top;\n",
       "    }\n",
       "\n",
       "    .dataframe thead th {\n",
       "        text-align: right;\n",
       "    }\n",
       "</style>\n",
       "<table border=\"1\" class=\"dataframe\">\n",
       "  <thead>\n",
       "    <tr style=\"text-align: right;\">\n",
       "      <th></th>\n",
       "      <th>df</th>\n",
       "      <th>sum_sq</th>\n",
       "      <th>mean_sq</th>\n",
       "      <th>F</th>\n",
       "      <th>PR(&gt;F)</th>\n",
       "    </tr>\n",
       "  </thead>\n",
       "  <tbody>\n",
       "    <tr>\n",
       "      <th>Close</th>\n",
       "      <td>1.0</td>\n",
       "      <td>7.104178e+06</td>\n",
       "      <td>7.104178e+06</td>\n",
       "      <td>98832.72313</td>\n",
       "      <td>0.0</td>\n",
       "    </tr>\n",
       "    <tr>\n",
       "      <th>Residual</th>\n",
       "      <td>341.0</td>\n",
       "      <td>2.451136e+04</td>\n",
       "      <td>7.188083e+01</td>\n",
       "      <td>NaN</td>\n",
       "      <td>NaN</td>\n",
       "    </tr>\n",
       "  </tbody>\n",
       "</table>\n",
       "</div>"
      ],
      "text/plain": [
       "             df        sum_sq       mean_sq            F  PR(>F)\n",
       "Close       1.0  7.104178e+06  7.104178e+06  98832.72313     0.0\n",
       "Residual  341.0  2.451136e+04  7.188083e+01          NaN     NaN"
      ]
     },
     "execution_count": 26,
     "metadata": {},
     "output_type": "execute_result"
    }
   ],
   "source": [
    "test_model = ols(\"Open ~ Close\", data =df).fit()\n",
    "test_ANOVA = sm.stats.anova_lm(test_model, type=2)\n",
    "test_ANOVA"
   ]
  },
  {
   "cell_type": "code",
   "execution_count": 27,
   "id": "7b22e253",
   "metadata": {},
   "outputs": [
    {
     "name": "stdout",
     "output_type": "stream",
     "text": [
      "R2-Squared Score: 0.9996514275373711\n"
     ]
    }
   ],
   "source": [
    "print(f\"R2-Squared Score: {r2_score(x_test, y_pred_test)}\")"
   ]
  }
 ],
 "metadata": {
  "kernelspec": {
   "display_name": "Python 3 (ipykernel)",
   "language": "python",
   "name": "python3"
  },
  "language_info": {
   "codemirror_mode": {
    "name": "ipython",
    "version": 3
   },
   "file_extension": ".py",
   "mimetype": "text/x-python",
   "name": "python",
   "nbconvert_exporter": "python",
   "pygments_lexer": "ipython3",
   "version": "3.9.13"
  }
 },
 "nbformat": 4,
 "nbformat_minor": 5
}
